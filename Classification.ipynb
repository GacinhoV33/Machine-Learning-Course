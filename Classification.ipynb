{
  "nbformat": 4,
  "nbformat_minor": 0,
  "metadata": {
    "colab": {
      "name": "Lab4 Classification Filip Gacek.ipynb",
      "provenance": [],
      "collapsed_sections": []
    },
    "kernelspec": {
      "name": "python3",
      "display_name": "Python 3"
    },
    "language_info": {
      "name": "python"
    }
  },
  "cells": [
    {
      "cell_type": "code",
      "execution_count": 131,
      "metadata": {
        "id": "3iqqaFLF5S6S"
      },
      "outputs": [],
      "source": [
        "from sklearn.datasets import load_iris\n",
        "from sklearn import datasets\n",
        "from sklearn.model_selection import train_test_split\n",
        "from scipy.spatial import distance\n",
        "from sklearn.metrics import accuracy_score"
      ]
    },
    {
      "cell_type": "code",
      "source": [
        "import pandas as pd\n",
        "import numpy as np \n",
        "from matplotlib import pyplot as plt "
      ],
      "metadata": {
        "id": "mgDaVMN784Xk"
      },
      "execution_count": 132,
      "outputs": []
    },
    {
      "cell_type": "code",
      "source": [
        "irisRaw = load_iris()\n",
        "iris = pd.DataFrame(data= np.c_[irisRaw['data'], irisRaw['target']],\n",
        "                     columns= irisRaw['feature_names'] + ['target'])"
      ],
      "metadata": {
        "id": "UIoA6lyr-a5m"
      },
      "execution_count": 133,
      "outputs": []
    },
    {
      "cell_type": "code",
      "source": [
        "iris.describe()"
      ],
      "metadata": {
        "colab": {
          "base_uri": "https://localhost:8080/",
          "height": 300
        },
        "id": "HyW52uYdfDyS",
        "outputId": "db27f7a7-93ff-400d-e040-aba604b623a9"
      },
      "execution_count": 134,
      "outputs": [
        {
          "output_type": "execute_result",
          "data": {
            "text/plain": [
              "       sepal length (cm)  sepal width (cm)  petal length (cm)  \\\n",
              "count         150.000000        150.000000         150.000000   \n",
              "mean            5.843333          3.057333           3.758000   \n",
              "std             0.828066          0.435866           1.765298   \n",
              "min             4.300000          2.000000           1.000000   \n",
              "25%             5.100000          2.800000           1.600000   \n",
              "50%             5.800000          3.000000           4.350000   \n",
              "75%             6.400000          3.300000           5.100000   \n",
              "max             7.900000          4.400000           6.900000   \n",
              "\n",
              "       petal width (cm)      target  \n",
              "count        150.000000  150.000000  \n",
              "mean           1.199333    1.000000  \n",
              "std            0.762238    0.819232  \n",
              "min            0.100000    0.000000  \n",
              "25%            0.300000    0.000000  \n",
              "50%            1.300000    1.000000  \n",
              "75%            1.800000    2.000000  \n",
              "max            2.500000    2.000000  "
            ],
            "text/html": [
              "\n",
              "  <div id=\"df-6aced13c-e7c8-4827-9e89-c58075d06022\">\n",
              "    <div class=\"colab-df-container\">\n",
              "      <div>\n",
              "<style scoped>\n",
              "    .dataframe tbody tr th:only-of-type {\n",
              "        vertical-align: middle;\n",
              "    }\n",
              "\n",
              "    .dataframe tbody tr th {\n",
              "        vertical-align: top;\n",
              "    }\n",
              "\n",
              "    .dataframe thead th {\n",
              "        text-align: right;\n",
              "    }\n",
              "</style>\n",
              "<table border=\"1\" class=\"dataframe\">\n",
              "  <thead>\n",
              "    <tr style=\"text-align: right;\">\n",
              "      <th></th>\n",
              "      <th>sepal length (cm)</th>\n",
              "      <th>sepal width (cm)</th>\n",
              "      <th>petal length (cm)</th>\n",
              "      <th>petal width (cm)</th>\n",
              "      <th>target</th>\n",
              "    </tr>\n",
              "  </thead>\n",
              "  <tbody>\n",
              "    <tr>\n",
              "      <th>count</th>\n",
              "      <td>150.000000</td>\n",
              "      <td>150.000000</td>\n",
              "      <td>150.000000</td>\n",
              "      <td>150.000000</td>\n",
              "      <td>150.000000</td>\n",
              "    </tr>\n",
              "    <tr>\n",
              "      <th>mean</th>\n",
              "      <td>5.843333</td>\n",
              "      <td>3.057333</td>\n",
              "      <td>3.758000</td>\n",
              "      <td>1.199333</td>\n",
              "      <td>1.000000</td>\n",
              "    </tr>\n",
              "    <tr>\n",
              "      <th>std</th>\n",
              "      <td>0.828066</td>\n",
              "      <td>0.435866</td>\n",
              "      <td>1.765298</td>\n",
              "      <td>0.762238</td>\n",
              "      <td>0.819232</td>\n",
              "    </tr>\n",
              "    <tr>\n",
              "      <th>min</th>\n",
              "      <td>4.300000</td>\n",
              "      <td>2.000000</td>\n",
              "      <td>1.000000</td>\n",
              "      <td>0.100000</td>\n",
              "      <td>0.000000</td>\n",
              "    </tr>\n",
              "    <tr>\n",
              "      <th>25%</th>\n",
              "      <td>5.100000</td>\n",
              "      <td>2.800000</td>\n",
              "      <td>1.600000</td>\n",
              "      <td>0.300000</td>\n",
              "      <td>0.000000</td>\n",
              "    </tr>\n",
              "    <tr>\n",
              "      <th>50%</th>\n",
              "      <td>5.800000</td>\n",
              "      <td>3.000000</td>\n",
              "      <td>4.350000</td>\n",
              "      <td>1.300000</td>\n",
              "      <td>1.000000</td>\n",
              "    </tr>\n",
              "    <tr>\n",
              "      <th>75%</th>\n",
              "      <td>6.400000</td>\n",
              "      <td>3.300000</td>\n",
              "      <td>5.100000</td>\n",
              "      <td>1.800000</td>\n",
              "      <td>2.000000</td>\n",
              "    </tr>\n",
              "    <tr>\n",
              "      <th>max</th>\n",
              "      <td>7.900000</td>\n",
              "      <td>4.400000</td>\n",
              "      <td>6.900000</td>\n",
              "      <td>2.500000</td>\n",
              "      <td>2.000000</td>\n",
              "    </tr>\n",
              "  </tbody>\n",
              "</table>\n",
              "</div>\n",
              "      <button class=\"colab-df-convert\" onclick=\"convertToInteractive('df-6aced13c-e7c8-4827-9e89-c58075d06022')\"\n",
              "              title=\"Convert this dataframe to an interactive table.\"\n",
              "              style=\"display:none;\">\n",
              "        \n",
              "  <svg xmlns=\"http://www.w3.org/2000/svg\" height=\"24px\"viewBox=\"0 0 24 24\"\n",
              "       width=\"24px\">\n",
              "    <path d=\"M0 0h24v24H0V0z\" fill=\"none\"/>\n",
              "    <path d=\"M18.56 5.44l.94 2.06.94-2.06 2.06-.94-2.06-.94-.94-2.06-.94 2.06-2.06.94zm-11 1L8.5 8.5l.94-2.06 2.06-.94-2.06-.94L8.5 2.5l-.94 2.06-2.06.94zm10 10l.94 2.06.94-2.06 2.06-.94-2.06-.94-.94-2.06-.94 2.06-2.06.94z\"/><path d=\"M17.41 7.96l-1.37-1.37c-.4-.4-.92-.59-1.43-.59-.52 0-1.04.2-1.43.59L10.3 9.45l-7.72 7.72c-.78.78-.78 2.05 0 2.83L4 21.41c.39.39.9.59 1.41.59.51 0 1.02-.2 1.41-.59l7.78-7.78 2.81-2.81c.8-.78.8-2.07 0-2.86zM5.41 20L4 18.59l7.72-7.72 1.47 1.35L5.41 20z\"/>\n",
              "  </svg>\n",
              "      </button>\n",
              "      \n",
              "  <style>\n",
              "    .colab-df-container {\n",
              "      display:flex;\n",
              "      flex-wrap:wrap;\n",
              "      gap: 12px;\n",
              "    }\n",
              "\n",
              "    .colab-df-convert {\n",
              "      background-color: #E8F0FE;\n",
              "      border: none;\n",
              "      border-radius: 50%;\n",
              "      cursor: pointer;\n",
              "      display: none;\n",
              "      fill: #1967D2;\n",
              "      height: 32px;\n",
              "      padding: 0 0 0 0;\n",
              "      width: 32px;\n",
              "    }\n",
              "\n",
              "    .colab-df-convert:hover {\n",
              "      background-color: #E2EBFA;\n",
              "      box-shadow: 0px 1px 2px rgba(60, 64, 67, 0.3), 0px 1px 3px 1px rgba(60, 64, 67, 0.15);\n",
              "      fill: #174EA6;\n",
              "    }\n",
              "\n",
              "    [theme=dark] .colab-df-convert {\n",
              "      background-color: #3B4455;\n",
              "      fill: #D2E3FC;\n",
              "    }\n",
              "\n",
              "    [theme=dark] .colab-df-convert:hover {\n",
              "      background-color: #434B5C;\n",
              "      box-shadow: 0px 1px 3px 1px rgba(0, 0, 0, 0.15);\n",
              "      filter: drop-shadow(0px 1px 2px rgba(0, 0, 0, 0.3));\n",
              "      fill: #FFFFFF;\n",
              "    }\n",
              "  </style>\n",
              "\n",
              "      <script>\n",
              "        const buttonEl =\n",
              "          document.querySelector('#df-6aced13c-e7c8-4827-9e89-c58075d06022 button.colab-df-convert');\n",
              "        buttonEl.style.display =\n",
              "          google.colab.kernel.accessAllowed ? 'block' : 'none';\n",
              "\n",
              "        async function convertToInteractive(key) {\n",
              "          const element = document.querySelector('#df-6aced13c-e7c8-4827-9e89-c58075d06022');\n",
              "          const dataTable =\n",
              "            await google.colab.kernel.invokeFunction('convertToInteractive',\n",
              "                                                     [key], {});\n",
              "          if (!dataTable) return;\n",
              "\n",
              "          const docLinkHtml = 'Like what you see? Visit the ' +\n",
              "            '<a target=\"_blank\" href=https://colab.research.google.com/notebooks/data_table.ipynb>data table notebook</a>'\n",
              "            + ' to learn more about interactive tables.';\n",
              "          element.innerHTML = '';\n",
              "          dataTable['output_type'] = 'display_data';\n",
              "          await google.colab.output.renderOutput(dataTable, element);\n",
              "          const docLink = document.createElement('div');\n",
              "          docLink.innerHTML = docLinkHtml;\n",
              "          element.appendChild(docLink);\n",
              "        }\n",
              "      </script>\n",
              "    </div>\n",
              "  </div>\n",
              "  "
            ]
          },
          "metadata": {},
          "execution_count": 134
        }
      ]
    },
    {
      "cell_type": "markdown",
      "source": [
        "**Data Visualization** "
      ],
      "metadata": {
        "id": "UUfD9xOketBW"
      }
    },
    {
      "cell_type": "code",
      "source": [
        "import seaborn as sns\n",
        "sns.countplot(iris['target'],label=\"Count\")\n",
        "plt.show()"
      ],
      "metadata": {
        "colab": {
          "base_uri": "https://localhost:8080/",
          "height": 333
        },
        "id": "CjKfwz6re8iX",
        "outputId": "eb54490d-b822-4bf8-efa5-418111a96cec"
      },
      "execution_count": 135,
      "outputs": [
        {
          "output_type": "stream",
          "name": "stderr",
          "text": [
            "/usr/local/lib/python3.7/dist-packages/seaborn/_decorators.py:43: FutureWarning: Pass the following variable as a keyword arg: x. From version 0.12, the only valid positional argument will be `data`, and passing other arguments without an explicit keyword will result in an error or misinterpretation.\n",
            "  FutureWarning\n"
          ]
        },
        {
          "output_type": "display_data",
          "data": {
            "text/plain": [
              "<Figure size 432x288 with 1 Axes>"
            ],
            "image/png": "[encoded data removed]"
          },
          "metadata": {
            "needs_background": "light"
          }
        }
      ]
    },
    {
      "cell_type": "markdown",
      "source": [
        "We see that representation of each class is equal in dataset."
      ],
      "metadata": {
        "id": "j9f7NPQ0fWUt"
      }
    },
    {
      "cell_type": "code",
      "source": [
        "from math import sqrt\n",
        "def euclidean_distance(row1, row2):\n",
        "\tdistance = 0.0\n",
        "\tfor i in range(len(row1)-1): # last value is ignored cause it is label \n",
        "\t\tdistance += (row1[i] - row2[i])**2\n",
        "\treturn sqrt(distance)"
      ],
      "metadata": {
        "id": "hXcArDjz-3ji"
      },
      "execution_count": 136,
      "outputs": []
    },
    {
      "cell_type": "code",
      "source": [
        "from random import shuffle\n",
        "iris_npy = iris.to_numpy()\n",
        "# shuffle(iris_npy)\n",
        "Train_set, Test_set = train_test_split(iris, test_size=0.2)\n",
        "Train_set_npy = iris_npy[:120, :]\n",
        "Test_set_npy = iris_npy[120:, :]\n",
        "# for i in range(iris_npy.shape[0]-1):\n",
        "  # distances[i] = np.sort(distance)\n",
        "  # print(euclidean_distance(iris_npy[i, :], iris_npy[i+1, :]))"
      ],
      "metadata": {
        "id": "GXcr5l66Ct6R"
      },
      "execution_count": 137,
      "outputs": []
    },
    {
      "cell_type": "code",
      "source": [
        "def get_neighbors(train_set, test_row, num_of_neighbors: int = 3):\n",
        "  distances = list()\n",
        "  for train_row in train_set:\n",
        "    distance = euclidean_distance(test_row, train_row)\n",
        "    distances.append((train_row, distance))\n",
        "  distances.sort(key=lambda row: row[1])\n",
        "  neigbors = list()\n",
        "  for i in range(num_of_neighbors):\n",
        "    neigbors.append(distances[i][0])\n",
        "  return neigbors"
      ],
      "metadata": {
        "id": "IqhdbmW7k_YR"
      },
      "execution_count": 138,
      "outputs": []
    },
    {
      "cell_type": "code",
      "source": [
        "def predict_knn(train_set, test_row, num_of_neighbors: int = 3):\n",
        "    neighbs = get_neighbors(train_set, test_row, num_of_neighbors)\n",
        "    labels = [row[-1] for row in neighbs]\n",
        "    prediction = max(set(labels), key=labels.count)\n",
        "    return prediction"
      ],
      "metadata": {
        "id": "D1WEIlV8mgvc"
      },
      "execution_count": 139,
      "outputs": []
    },
    {
      "cell_type": "markdown",
      "source": [
        "**Verifying accuracy of KNN algorithm**"
      ],
      "metadata": {
        "id": "2fKsVYHKshVy"
      }
    },
    {
      "cell_type": "code",
      "source": [
        "cnt_correct = 0\n",
        "for i in range(Test_set.shape[0]):\n",
        "  if predict_knn(Train_set_npy, Test_set_npy[i, :], 3) == Test_set_npy[i, -1]:\n",
        "    cnt_correct += 1\n",
        "\n",
        "print(f'Accuracy of algorithm: {round(cnt_correct/Test_set.shape[0], 2) * 100}%')"
      ],
      "metadata": {
        "colab": {
          "base_uri": "https://localhost:8080/"
        },
        "id": "UAweiejXsm5X",
        "outputId": "863a9dfe-3316-4c49-fbd6-2db0257e2d61"
      },
      "execution_count": 140,
      "outputs": [
        {
          "output_type": "stream",
          "name": "stdout",
          "text": [
            "Accuracy of algorithm: 77.0%\n"
          ]
        }
      ]
    },
    {
      "cell_type": "markdown",
      "source": [
        "**Ex.2 - kNN - Python (sklearn)**"
      ],
      "metadata": {
        "id": "Uo0exJQAETHZ"
      }
    },
    {
      "cell_type": "code",
      "source": [
        "from sklearn.neighbors import KNeighborsClassifier"
      ],
      "metadata": {
        "id": "TbAtTxf1Ea7-"
      },
      "execution_count": 141,
      "outputs": []
    },
    {
      "cell_type": "code",
      "source": [
        "irisRaw2 = load_iris()\n",
        "iris2 = pd.DataFrame(data= np.c_[irisRaw2['data'], irisRaw2['target']],\n",
        "                     columns= irisRaw2['feature_names'] + ['target'])\n",
        "X_train2, X_test2, Y_train2, Y_test2 = train_test_split(iris2.values, iris2.target, test_size=0.3, random_state=42)"
      ],
      "metadata": {
        "id": "O3ptM5u_FRHl"
      },
      "execution_count": 142,
      "outputs": []
    },
    {
      "cell_type": "code",
      "source": [
        "knn_classifier = KNeighborsClassifier()\n",
        "knn_classifier.fit(X_train2, Y_train2)\n",
        "print('Accuracy of K-NN classifier on training set: {:.2f}'\n",
        "     .format(knn_classifier.score(X_train2, Y_train2)))\n",
        "print('Accuracy of K-NN classifier on test set: {:.2f}'\n",
        "     .format(knn_classifier.score(X_test2, Y_test2)))"
      ],
      "metadata": {
        "colab": {
          "base_uri": "https://localhost:8080/"
        },
        "id": "1OkWnTo5gIac",
        "outputId": "f82777a1-9478-4b83-d222-9707f85ed578"
      },
      "execution_count": 143,
      "outputs": [
        {
          "output_type": "stream",
          "name": "stdout",
          "text": [
            "Accuracy of K-NN classifier on training set: 1.00\n",
            "Accuracy of K-NN classifier on test set: 1.00\n"
          ]
        }
      ]
    },
    {
      "cell_type": "code",
      "source": [
        "neigh_classifier = KNeighborsClassifier(n_neighbors=1, algorithm='brute', weights='distance')\n",
        "neigh_classifier.fit(X_train2, Y_train2)"
      ],
      "metadata": {
        "id": "o0glQM8LEkHw",
        "colab": {
          "base_uri": "https://localhost:8080/"
        },
        "outputId": "2e32d00d-bbb5-46cb-e01b-6ec5f6b87f0c"
      },
      "execution_count": 144,
      "outputs": [
        {
          "output_type": "execute_result",
          "data": {
            "text/plain": [
              "KNeighborsClassifier(algorithm='brute', n_neighbors=1, weights='distance')"
            ]
          },
          "metadata": {},
          "execution_count": 144
        }
      ]
    },
    {
      "cell_type": "code",
      "source": [
        "acc = accuracy_score(Y_test2, neigh_classifier.predict(X_test2))\n",
        "print(f\"We reached {acc * 100}% accuracy.\")\n",
        "print(neigh_classifier.predict_proba(X_test2))\n"
      ],
      "metadata": {
        "colab": {
          "base_uri": "https://localhost:8080/"
        },
        "id": "TqiqEhDzFqTj",
        "outputId": "5d2a5492-23e0-4800-bf13-f534315161fa"
      },
      "execution_count": 145,
      "outputs": [
        {
          "output_type": "stream",
          "name": "stdout",
          "text": [
            "We reached 100.0% accuracy.\n",
            "[[0. 1. 0.]\n",
            " [1. 0. 0.]\n",
            " [0. 0. 1.]\n",
            " [0. 1. 0.]\n",
            " [0. 1. 0.]\n",
            " [1. 0. 0.]\n",
            " [0. 1. 0.]\n",
            " [0. 0. 1.]\n",
            " [0. 1. 0.]\n",
            " [0. 1. 0.]\n",
            " [0. 0. 1.]\n",
            " [1. 0. 0.]\n",
            " [1. 0. 0.]\n",
            " [1. 0. 0.]\n",
            " [1. 0. 0.]\n",
            " [0. 1. 0.]\n",
            " [0. 0. 1.]\n",
            " [0. 1. 0.]\n",
            " [0. 1. 0.]\n",
            " [0. 0. 1.]\n",
            " [1. 0. 0.]\n",
            " [0. 0. 1.]\n",
            " [1. 0. 0.]\n",
            " [0. 0. 1.]\n",
            " [0. 0. 1.]\n",
            " [0. 0. 1.]\n",
            " [0. 0. 1.]\n",
            " [0. 0. 1.]\n",
            " [1. 0. 0.]\n",
            " [1. 0. 0.]\n",
            " [1. 0. 0.]\n",
            " [1. 0. 0.]\n",
            " [0. 1. 0.]\n",
            " [1. 0. 0.]\n",
            " [1. 0. 0.]\n",
            " [0. 0. 1.]\n",
            " [0. 1. 0.]\n",
            " [1. 0. 0.]\n",
            " [1. 0. 0.]\n",
            " [1. 0. 0.]\n",
            " [0. 0. 1.]\n",
            " [0. 1. 0.]\n",
            " [0. 1. 0.]\n",
            " [1. 0. 0.]\n",
            " [1. 0. 0.]]\n"
          ]
        }
      ]
    },
    {
      "cell_type": "code",
      "source": [
        "print(neigh_classifier.predict_proba(np.array([[5, 2, 3, 0, 1]])))"
      ],
      "metadata": {
        "colab": {
          "base_uri": "https://localhost:8080/"
        },
        "id": "ohxSMkj2K6zk",
        "outputId": "34ee0de2-9343-4df5-ff8b-6e16e8ebd872"
      },
      "execution_count": 146,
      "outputs": [
        {
          "output_type": "stream",
          "name": "stdout",
          "text": [
            "[[0. 1. 0.]]\n"
          ]
        }
      ]
    },
    {
      "cell_type": "markdown",
      "source": [
        "**Decision trees** "
      ],
      "metadata": {
        "id": "bXI3mt9Coxwo"
      }
    },
    {
      "cell_type": "code",
      "source": [
        "from sklearn.datasets import load_iris\n",
        "from sklearn import tree\n",
        "iris = load_iris()\n",
        "clf = tree.DecisionTreeClassifier()\n",
        "clf.fit(iris.data, iris.target)"
      ],
      "metadata": {
        "colab": {
          "base_uri": "https://localhost:8080/"
        },
        "id": "QVzMplqmo04M",
        "outputId": "d8990329-fc78-412f-d83d-a6f36fd40e9a"
      },
      "execution_count": 147,
      "outputs": [
        {
          "output_type": "execute_result",
          "data": {
            "text/plain": [
              "DecisionTreeClassifier()"
            ]
          },
          "metadata": {},
          "execution_count": 147
        }
      ]
    },
    {
      "cell_type": "code",
      "source": [
        "clf.predict(iris.data[:1, :])"
      ],
      "metadata": {
        "colab": {
          "base_uri": "https://localhost:8080/"
        },
        "id": "Qrme5dMwo7Tc",
        "outputId": "d8a48477-f261-4b11-8067-5c45b5767be6"
      },
      "execution_count": 148,
      "outputs": [
        {
          "output_type": "execute_result",
          "data": {
            "text/plain": [
              "array([0])"
            ]
          },
          "metadata": {},
          "execution_count": 148
        }
      ]
    },
    {
      "cell_type": "code",
      "source": [
        "clf.predict_proba(iris.data[:1, :])"
      ],
      "metadata": {
        "colab": {
          "base_uri": "https://localhost:8080/"
        },
        "id": "ixfwWjjGo-th",
        "outputId": "957ea3eb-9f82-4fa7-c1eb-5c4d98fa446d"
      },
      "execution_count": 149,
      "outputs": [
        {
          "output_type": "execute_result",
          "data": {
            "text/plain": [
              "array([[1., 0., 0.]])"
            ]
          },
          "metadata": {},
          "execution_count": 149
        }
      ]
    },
    {
      "cell_type": "code",
      "source": [
        "from six import StringIO  \n",
        "import pydot \n",
        "dot_data = StringIO() \n",
        "tree.export_graphviz(clf, out_file=dot_data) \n",
        "graph = pydot.graph_from_dot_data(dot_data.getvalue()) \n",
        "graph[0].write_pdf(\"iris.pdf\")"
      ],
      "metadata": {
        "id": "FiMbnCb1pEyw"
      },
      "execution_count": 150,
      "outputs": []
    },
    {
      "cell_type": "markdown",
      "source": [
        "**Exercise**"
      ],
      "metadata": {
        "id": "Om294ZmivUjW"
      }
    },
    {
      "cell_type": "code",
      "source": [
        "# -*- coding: utf-8 -*-\n",
        "import matplotlib.pyplot as plt\n",
        "import numpy as np\n",
        "from sklearn.metrics import classification_report, confusion_matrix, f1_score\n",
        "from sklearn import tree\n",
        "from sklearn.model_selection import train_test_split\n",
        "from scipy.io import loadmat\n",
        "from keras.datasets import mnist\n",
        " \n",
        " \n",
        "# wczytywanie danych \n",
        "#Ex.1.Divide the data into parameters X and answer y:\n",
        " \n",
        "(train_X, train_y), (test_X, test_y) = mnist.load_data()\n",
        "X = train_X #TODO\n",
        "y = train_y #TODO"
      ],
      "metadata": {
        "id": "7T8i2O-7p_71"
      },
      "execution_count": 151,
      "outputs": []
    },
    {
      "cell_type": "code",
      "source": [
        " # Standardization\n",
        "for i in range(X.shape[0]):\n",
        "    X[i,:] = X[i,:]/np.std(X[i,:])\n",
        " \n",
        "# Convert digit 10 -> 0 (error in the dataset)    \n",
        "y[np.where(y==10)]=0\n",
        " \n",
        "# the height and width of the picture with the number\n",
        "h = 20\n",
        "w = 20"
      ],
      "metadata": {
        "id": "i16VDj49vdn6"
      },
      "execution_count": 152,
      "outputs": []
    },
    {
      "cell_type": "code",
      "source": [
        "# Ex 2. Please display the number of digits and the number of pixels per image\n",
        "print(f\"Number of specific digits: {len(set(train_y.flatten()))}\")\n",
        "print(f\"Digits: {set(train_y.flatten())}\")\n",
        "print(f\"Number of pixels per image: {train_X[0].shape[0] * train_X[0].shape[1]}\")\n",
        "print(f\"Shape of image: {train_X[0].shape}\")"
      ],
      "metadata": {
        "colab": {
          "base_uri": "https://localhost:8080/"
        },
        "id": "gMCwRlwBws3L",
        "outputId": "af4a1ddb-9b71-4cbf-9030-5badfe607090"
      },
      "execution_count": 153,
      "outputs": [
        {
          "output_type": "stream",
          "name": "stdout",
          "text": [
            "Number of specific digits: 10\n",
            "Digits: {0, 1, 2, 3, 4, 5, 6, 7, 8, 9}\n",
            "Number of pixels per image: 784\n",
            "Shape of image: (28, 28)\n"
          ]
        }
      ]
    },
    {
      "cell_type": "code",
      "source": [
        "def plot_mnist(images, titles, h, w, n_row=3, n_col=4):\n",
        "    plt.figure(figsize=(2.4 * n_col, 3.2 * n_row))\n",
        "    plt.subplots_adjust(bottom=0, left=.01, right=.99, top=.90, hspace=.05)\n",
        "    for i in range(n_row * n_col):\n",
        "        plt.subplot(n_row, n_col, i + 1)\n",
        "        plt.imshow(images[i], cmap=plt.cm.gray)\n",
        "        plt.title(titles[i], size=12)\n",
        "        plt.xticks(())\n",
        "        plt.yticks(())"
      ],
      "metadata": {
        "id": "7MvVQb0TyM13"
      },
      "execution_count": 154,
      "outputs": []
    },
    {
      "cell_type": "code",
      "source": [
        "plot_mnist(train_X[:12], [f\"Number {train_y[i]}\" for i in range(12)], h, w) # With shape 24x24"
      ],
      "metadata": {
        "colab": {
          "base_uri": "https://localhost:8080/",
          "height": 618
        },
        "id": "2kfZDvVQybJx",
        "outputId": "533c02a8-0d85-46c4-96ef-8ca3ee478cb5"
      },
      "execution_count": 155,
      "outputs": [
        {
          "output_type": "display_data",
          "data": {
            "text/plain": [
              "<Figure size 691.2x691.2 with 12 Axes>"
            ],
            "image/png": "[encoded data removed]"
          },
          "metadata": {}
        }
      ]
    },
    {
      "cell_type": "code",
      "source": [
        "# Resizing dataset to 20x20\n",
        "import cv2\n",
        "resized_train_X = np.zeros((train_X.shape[0], h, w))\n",
        "resized_test_X = np.zeros((test_X.shape[0], h ,w))\n",
        "for i in range(train_X.shape[0]):\n",
        "  resized_train_X[i] = cv2.resize(train_X[i], dsize=(h, w), interpolation=cv2.INTER_CUBIC)\n",
        "for i in range(test_X.shape[0]):\n",
        "  resized_test_X[i] = cv2.resize(test_X[i], dsize=(h, w), interpolation=cv2.INTER_CUBIC) # for test dataset\n",
        "resized_test_X.shape"
      ],
      "metadata": {
        "colab": {
          "base_uri": "https://localhost:8080/"
        },
        "id": "oBXaej5EzDu8",
        "outputId": "fde180ff-431d-4a4c-a2d3-96041731111b"
      },
      "execution_count": 156,
      "outputs": [
        {
          "output_type": "execute_result",
          "data": {
            "text/plain": [
              "(10000, 20, 20)"
            ]
          },
          "metadata": {},
          "execution_count": 156
        }
      ]
    },
    {
      "cell_type": "code",
      "source": [
        "plot_mnist(resized_train_X[:12], [f\"Number {train_y[i]}\" for i in range(12)], h, w) # With shape 24x24"
      ],
      "metadata": {
        "colab": {
          "base_uri": "https://localhost:8080/",
          "height": 618
        },
        "id": "GisiX5Tl0V-S",
        "outputId": "8ddc5dc5-a0fa-4d0b-91e3-9199eb639760"
      },
      "execution_count": 157,
      "outputs": [
        {
          "output_type": "display_data",
          "data": {
            "text/plain": [
              "<Figure size 691.2x691.2 with 12 Axes>"
            ],
            "image/png": "[encoded data removed]"
          },
          "metadata": {}
        }
      ]
    },
    {
      "cell_type": "markdown",
      "source": [
        "**Model parameters**"
      ],
      "metadata": {
        "id": "jJet2RPK3eab"
      }
    },
    {
      "cell_type": "code",
      "source": [
        "DEPTH = 10"
      ],
      "metadata": {
        "id": "61sos7CG2T_l"
      },
      "execution_count": 158,
      "outputs": []
    },
    {
      "cell_type": "code",
      "source": [
        "# from sklearn.datasets import load_iris\n",
        "# from sklearn import tree\n",
        "clf2 = tree.DecisionTreeClassifier(max_depth=DEPTH)\n",
        "resized_train_X.shape\n",
        "train_X.shape"
      ],
      "metadata": {
        "colab": {
          "base_uri": "https://localhost:8080/"
        },
        "id": "0VlVWtl53hay",
        "outputId": "20093f09-b5cd-490d-e6d2-b2a622b34c5a"
      },
      "execution_count": 159,
      "outputs": [
        {
          "output_type": "execute_result",
          "data": {
            "text/plain": [
              "(60000, 28, 28)"
            ]
          },
          "metadata": {},
          "execution_count": 159
        }
      ]
    },
    {
      "cell_type": "code",
      "source": [
        "flatten_train_X = np.zeros((resized_train_X.shape[0], resized_train_X.shape[1]*resized_train_X.shape[2]))\n",
        "flatten_test_X = np.zeros((resized_test_X.shape[0], resized_test_X.shape[1]*resized_test_X.shape[2]))\n",
        "for i in range(resized_train_X.shape[0]):\n",
        "  flatten_train_X[i] = resized_train_X[i].flatten()\n",
        "for i in range(resized_test_X.shape[0]):\n",
        "  flatten_test_X[i] = resized_test_X[i].flatten()\n",
        "clf2.fit(flatten_train_X, train_y)"
      ],
      "metadata": {
        "colab": {
          "base_uri": "https://localhost:8080/"
        },
        "id": "xZ7u-_5a3qqa",
        "outputId": "2833c13d-bd88-46c5-aac1-1b255b303533"
      },
      "execution_count": 160,
      "outputs": [
        {
          "output_type": "execute_result",
          "data": {
            "text/plain": [
              "DecisionTreeClassifier(max_depth=10)"
            ]
          },
          "metadata": {},
          "execution_count": 160
        }
      ]
    },
    {
      "cell_type": "markdown",
      "source": [
        "**Predicting numbers**"
      ],
      "metadata": {
        "id": "zGmooZoRBT9X"
      }
    },
    {
      "cell_type": "code",
      "source": [
        "predictions = clf2.predict(flatten_test_X)\n",
        "prediction_sample = clf2.predict(flatten_test_X[20:32])"
      ],
      "metadata": {
        "id": "mYm70OMuAmG3"
      },
      "execution_count": 161,
      "outputs": []
    },
    {
      "cell_type": "code",
      "source": [
        "def plot_prediction(images, titles, h, w, n_row=3, n_col=4):\n",
        "    plt.figure(figsize=(2.4 * n_col, 3.2 * n_row))\n",
        "    plt.subplots_adjust(bottom=0, left=.01, right=.99, top=.90, hspace=.05)\n",
        "    for i in range(n_row * n_col):\n",
        "        plt.subplot(n_row, n_col, i + 1)\n",
        "        plt.imshow(images[i], cmap=plt.cm.gray)\n",
        "        plt.title(titles[i], size=12)\n",
        "        plt.xticks(())\n",
        "        plt.yticks(())"
      ],
      "metadata": {
        "id": "dtHUzfQWBg_u"
      },
      "execution_count": 162,
      "outputs": []
    },
    {
      "cell_type": "code",
      "source": [
        "plot_prediction(resized_test_X[20:32], [f\"Prediction: {i}\" for i in prediction_sample], h, w)"
      ],
      "metadata": {
        "colab": {
          "base_uri": "https://localhost:8080/",
          "height": 618
        },
        "id": "nTYUhBMaBtit",
        "outputId": "10deaf68-3c7a-4e1c-df6a-edc3eefb09ad"
      },
      "execution_count": 163,
      "outputs": [
        {
          "output_type": "display_data",
          "data": {
            "text/plain": [
              "<Figure size 691.2x691.2 with 12 Axes>"
            ],
            "image/png": "[encoded data removed]"
          },
          "metadata": {}
        }
      ]
    },
    {
      "cell_type": "code",
      "source": [
        ""
      ],
      "metadata": {
        "id": "a3UUdG85CQOs"
      },
      "execution_count": 163,
      "outputs": []
    },
    {
      "cell_type": "markdown",
      "source": [
        "**F1 score**"
      ],
      "metadata": {
        "id": "5Pd_GrkAIsw7"
      }
    },
    {
      "cell_type": "code",
      "source": [
        "f1 = f1_score(predictions, test_y, average='weighted') \n",
        "print(f\"F1_score for test set is: {f1}\")"
      ],
      "metadata": {
        "colab": {
          "base_uri": "https://localhost:8080/"
        },
        "id": "jd_TBt0nIvEF",
        "outputId": "b23d3fda-9fe5-4cc7-aaa9-8bee15166630"
      },
      "execution_count": 164,
      "outputs": [
        {
          "output_type": "stream",
          "name": "stdout",
          "text": [
            "F1_score for test set is: 0.61955281362399\n"
          ]
        }
      ]
    },
    {
      "cell_type": "markdown",
      "source": [
        "**Classification Report**"
      ],
      "metadata": {
        "id": "SVM0hBUsJ07q"
      }
    },
    {
      "cell_type": "code",
      "source": [
        "dot_data2 = StringIO() \n",
        "tree.export_graphviz(clf2, out_file=dot_data2) \n",
        "graph = pydot.graph_from_dot_data(dot_data2.getvalue()) \n",
        "graph[0].write_pdf(\"Mnist.pdf\")"
      ],
      "metadata": {
        "id": "tnmWgYLGJX_a"
      },
      "execution_count": 165,
      "outputs": []
    },
    {
      "cell_type": "markdown",
      "source": [
        "**Confusion Matrix**"
      ],
      "metadata": {
        "id": "eVN65daLJ4mS"
      }
    },
    {
      "cell_type": "code",
      "source": [
        "from sklearn.metrics import confusion_matrix\n",
        "import seaborn as sns\n",
        "def plot_cm(labels, predictions):\n",
        "  cm = confusion_matrix(labels, predictions)\n",
        "  plt.figure(figsize=(18,12))\n",
        "  sns.heatmap(cm, annot=True, fmt=\"d\")\n",
        "  plt.title('Confusion matrix')\n",
        "  plt.ylabel('Actual label')\n",
        "  plt.xlabel('Predicted label')"
      ],
      "metadata": {
        "id": "hg4pqALMJzkv"
      },
      "execution_count": 166,
      "outputs": []
    },
    {
      "cell_type": "code",
      "source": [
        "plot_cm(test_y, predictions)"
      ],
      "metadata": {
        "colab": {
          "base_uri": "https://localhost:8080/",
          "height": 730
        },
        "id": "0lkJHVN4Kqr9",
        "outputId": "0e8ad231-993b-484a-d9c0-255957e157e4"
      },
      "execution_count": 167,
      "outputs": [
        {
          "output_type": "display_data",
          "data": {
            "text/plain": [
              "<Figure size 1296x864 with 2 Axes>"
            ],
            "image/png": "[encoded data removed]"
          },
          "metadata": {
            "needs_background": "light"
          }
        }
      ]
    }
  ]
}